{
 "cells": [
  {
   "cell_type": "code",
   "execution_count": 25,
   "metadata": {},
   "outputs": [],
   "source": [
    "import os\n",
    "from dotenv import load_dotenv\n",
    "from appwrite.client import Client\n",
    "from appwrite.services.databases import Databases\n",
    "\n",
    "load_dotenv()\n",
    "APPWRITE_ENDPOINT = os.getenv(\"APPWRITE_ENDPOINT\")\n",
    "APPWRITE_URL = os.getenv(\"APPWRITE_URL\")\n",
    "APPWRITE_PROJECT = os.getenv(\"APPWRITE_PROJECT\")\n",
    "APPWRITE_DATABASE = os.getenv(\"APPWRITE_DATABASE\")\n",
    "APPWRITE_COLLECTION = os.getenv(\"APPWRITE_COLLECTION\")\n",
    "APPWRITE_API_KEY = os.getenv(\"APPWRITE_API_KEY\")\n",
    "\n",
    "client = Client()\n",
    "(client\n",
    ".set_endpoint(APPWRITE_URL)\n",
    ".set_project(APPWRITE_PROJECT)\n",
    ".set_key(APPWRITE_API_KEY)\n",
    ")\n",
    "databases = Databases(client)"
   ]
  },
  {
   "cell_type": "code",
   "execution_count": 27,
   "metadata": {},
   "outputs": [
    {
     "ename": "AppwriteException",
     "evalue": "Collection with the requested ID could not be found.",
     "output_type": "error",
     "traceback": [
      "\u001b[0;31m---------------------------------------------------------------------------\u001b[0m",
      "\u001b[0;31mHTTPError\u001b[0m                                 Traceback (most recent call last)",
      "File \u001b[0;32m~/.local/share/virtualenvs/winwin-auto-scraper-lzrV6sCm/lib/python3.11/site-packages/appwrite/client.py:100\u001b[0m, in \u001b[0;36mClient.call\u001b[0;34m(self, method, path, headers, params)\u001b[0m\n\u001b[1;32m     89\u001b[0m response \u001b[39m=\u001b[39m requests\u001b[39m.\u001b[39mrequest(  \u001b[39m# call method dynamically https://stackoverflow.com/a/4246075/2299554\u001b[39;00m\n\u001b[1;32m     90\u001b[0m     method\u001b[39m=\u001b[39mmethod,\n\u001b[1;32m     91\u001b[0m     url\u001b[39m=\u001b[39m\u001b[39mself\u001b[39m\u001b[39m.\u001b[39m_endpoint \u001b[39m+\u001b[39m path,\n\u001b[0;32m   (...)\u001b[0m\n\u001b[1;32m     97\u001b[0m     verify\u001b[39m=\u001b[39m(\u001b[39mnot\u001b[39;00m \u001b[39mself\u001b[39m\u001b[39m.\u001b[39m_self_signed),\n\u001b[1;32m     98\u001b[0m )\n\u001b[0;32m--> 100\u001b[0m response\u001b[39m.\u001b[39;49mraise_for_status()\n\u001b[1;32m    102\u001b[0m content_type \u001b[39m=\u001b[39m response\u001b[39m.\u001b[39mheaders[\u001b[39m'\u001b[39m\u001b[39mContent-Type\u001b[39m\u001b[39m'\u001b[39m]\n",
      "File \u001b[0;32m~/.local/share/virtualenvs/winwin-auto-scraper-lzrV6sCm/lib/python3.11/site-packages/requests/models.py:1021\u001b[0m, in \u001b[0;36mResponse.raise_for_status\u001b[0;34m(self)\u001b[0m\n\u001b[1;32m   1020\u001b[0m \u001b[39mif\u001b[39;00m http_error_msg:\n\u001b[0;32m-> 1021\u001b[0m     \u001b[39mraise\u001b[39;00m HTTPError(http_error_msg, response\u001b[39m=\u001b[39m\u001b[39mself\u001b[39m)\n",
      "\u001b[0;31mHTTPError\u001b[0m: 404 Client Error: Not Found for url: https://appwrite.anakonn.com/v1/databases/winwin-auto/collections/APPWRITE_COLLECTION",
      "\nDuring handling of the above exception, another exception occurred:\n",
      "\u001b[0;31mAppwriteException\u001b[0m                         Traceback (most recent call last)",
      "Cell \u001b[0;32mIn[27], line 1\u001b[0m\n\u001b[0;32m----> 1\u001b[0m databases\u001b[39m.\u001b[39;49mget_collection(APPWRITE_DATABASE, \u001b[39m\"\u001b[39;49m\u001b[39mAPPWRITE_COLLECTION\u001b[39;49m\u001b[39m\"\u001b[39;49m)\n",
      "File \u001b[0;32m~/.local/share/virtualenvs/winwin-auto-scraper-lzrV6sCm/lib/python3.11/site-packages/appwrite/services/databases.py:155\u001b[0m, in \u001b[0;36mDatabases.get_collection\u001b[0;34m(self, database_id, collection_id)\u001b[0m\n\u001b[1;32m    151\u001b[0m path \u001b[39m=\u001b[39m path\u001b[39m.\u001b[39mreplace(\u001b[39m'\u001b[39m\u001b[39m{databaseId}\u001b[39;00m\u001b[39m'\u001b[39m, database_id)\n\u001b[1;32m    152\u001b[0m path \u001b[39m=\u001b[39m path\u001b[39m.\u001b[39mreplace(\u001b[39m'\u001b[39m\u001b[39m{collectionId}\u001b[39;00m\u001b[39m'\u001b[39m, collection_id)\n\u001b[0;32m--> 155\u001b[0m \u001b[39mreturn\u001b[39;00m \u001b[39mself\u001b[39;49m\u001b[39m.\u001b[39;49mclient\u001b[39m.\u001b[39;49mcall(\u001b[39m'\u001b[39;49m\u001b[39mget\u001b[39;49m\u001b[39m'\u001b[39;49m, path, {\n\u001b[1;32m    156\u001b[0m     \u001b[39m'\u001b[39;49m\u001b[39mcontent-type\u001b[39;49m\u001b[39m'\u001b[39;49m: \u001b[39m'\u001b[39;49m\u001b[39mapplication/json\u001b[39;49m\u001b[39m'\u001b[39;49m,\n\u001b[1;32m    157\u001b[0m }, params)\n",
      "File \u001b[0;32m~/.local/share/virtualenvs/winwin-auto-scraper-lzrV6sCm/lib/python3.11/site-packages/appwrite/client.py:112\u001b[0m, in \u001b[0;36mClient.call\u001b[0;34m(self, method, path, headers, params)\u001b[0m\n\u001b[1;32m    110\u001b[0m content_type \u001b[39m=\u001b[39m response\u001b[39m.\u001b[39mheaders[\u001b[39m'\u001b[39m\u001b[39mContent-Type\u001b[39m\u001b[39m'\u001b[39m]\n\u001b[1;32m    111\u001b[0m \u001b[39mif\u001b[39;00m content_type\u001b[39m.\u001b[39mstartswith(\u001b[39m'\u001b[39m\u001b[39mapplication/json\u001b[39m\u001b[39m'\u001b[39m):\n\u001b[0;32m--> 112\u001b[0m     \u001b[39mraise\u001b[39;00m AppwriteException(response\u001b[39m.\u001b[39mjson()[\u001b[39m'\u001b[39m\u001b[39mmessage\u001b[39m\u001b[39m'\u001b[39m], response\u001b[39m.\u001b[39mstatus_code, response\u001b[39m.\u001b[39mjson()\u001b[39m.\u001b[39mget(\u001b[39m'\u001b[39m\u001b[39mtype\u001b[39m\u001b[39m'\u001b[39m), response\u001b[39m.\u001b[39mjson())\n\u001b[1;32m    113\u001b[0m \u001b[39melse\u001b[39;00m:\n\u001b[1;32m    114\u001b[0m     \u001b[39mraise\u001b[39;00m AppwriteException(response\u001b[39m.\u001b[39mtext, response\u001b[39m.\u001b[39mstatus_code)\n",
      "\u001b[0;31mAppwriteException\u001b[0m: Collection with the requested ID could not be found."
     ]
    }
   ],
   "source": [
    "\n",
    "databases.get_collection(APPWRITE_DATABASE, \"APPWRITE_COLLECTION\")"
   ]
  },
  {
   "cell_type": "code",
   "execution_count": 16,
   "metadata": {},
   "outputs": [
    {
     "data": {
      "text/plain": [
       "{'id': '23422',\n",
       " 'name': '앱라이트',\n",
       " 'cost_price': '10000',\n",
       " 'sale_price': '20000',\n",
       " 'first_price': '30000',\n",
       " 'second_price': '40000',\n",
       " '$id': '64c9875a575ad9749663',\n",
       " '$permissions': [],\n",
       " '$createdAt': '2023-08-01T22:29:46.358+00:00',\n",
       " '$updatedAt': '2023-08-01T22:29:46.358+00:00',\n",
       " '$databaseId': 'winwin-auto',\n",
       " '$collectionId': 'product'}"
      ]
     },
     "execution_count": 16,
     "metadata": {},
     "output_type": "execute_result"
    }
   ],
   "source": [
    "# 생성\n",
    "databases.create_document(\n",
    "    \"winwin-auto\",\n",
    "    \"product\",\n",
    "    \"unique()\",\n",
    "    {\n",
    "        \"id\": \"23422\",\n",
    "        \"name\": \"앱라이트\",\n",
    "        \"cost_price\": \"10000\",\n",
    "        \"sale_price\": \"20000\",\n",
    "        \"first_price\": \"30000\",\n",
    "        \"second_price\": \"40000\",        \n",
    "    }\n",
    "    )"
   ]
  },
  {
   "cell_type": "code",
   "execution_count": 33,
   "metadata": {},
   "outputs": [
    {
     "data": {
      "text/plain": [
       "{'id': '23422',\n",
       " 'name': '앱라이트2',\n",
       " 'cost_price': '10000',\n",
       " 'sale_price': '20000',\n",
       " 'first_price': '30000',\n",
       " 'second_price': '40000',\n",
       " '$id': '64c9875a575ad9749663',\n",
       " '$createdAt': '2023-08-01T22:29:46.358+00:00',\n",
       " '$updatedAt': '2023-08-01T23:31:40.264+00:00',\n",
       " '$permissions': [],\n",
       " '$databaseId': 'winwin-auto',\n",
       " '$collectionId': 'product'}"
      ]
     },
     "execution_count": 33,
     "metadata": {},
     "output_type": "execute_result"
    }
   ],
   "source": [
    "# 업데이트\n",
    "databases.update_document(\n",
    "    \"winwin-auto\",\n",
    "    \"product\",\n",
    "    \"64c9875a575ad9749663\",\n",
    "    {\n",
    "        \"id\": \"23422\",\n",
    "        \"name\": \"앱라이트2\",\n",
    "        \"cost_price\": \"10000\",\n",
    "        \"sale_price\": \"20000\",\n",
    "        \"first_price\": \"30000\",\n",
    "        \"second_price\": \"40000\",        \n",
    "    }\n",
    ")"
   ]
  },
  {
   "cell_type": "code",
   "execution_count": 34,
   "metadata": {},
   "outputs": [
    {
     "data": {
      "text/plain": [
       "{'key': 'winwin_code',\n",
       " 'type': 'key',\n",
       " 'status': 'available',\n",
       " 'attributes': ['id'],\n",
       " 'orders': ['ASC']}"
      ]
     },
     "execution_count": 34,
     "metadata": {},
     "output_type": "execute_result"
    }
   ],
   "source": [
    "databases.get_index(\"winwin-auto\", \"product\", \"winwin_code\")"
   ]
  },
  {
   "cell_type": "code",
   "execution_count": 37,
   "metadata": {},
   "outputs": [
    {
     "data": {
      "text/plain": [
       "{'key': 'winwin_code',\n",
       " 'type': 'key',\n",
       " 'status': 'available',\n",
       " 'attributes': ['id'],\n",
       " 'orders': ['ASC']}"
      ]
     },
     "execution_count": 37,
     "metadata": {},
     "output_type": "execute_result"
    }
   ],
   "source": [
    "db_collection = (\"winwin-auto\", \"product\")\n",
    "databases.get_index(*db_collection, \"winwin_code\")"
   ]
  },
  {
   "cell_type": "code",
   "execution_count": 28,
   "metadata": {},
   "outputs": [],
   "source": [
    "from appwrite.query import Query\n",
    "response = databases.list_documents(\"winwin-auto\", \"product\", \n",
    "                       [Query.equal(\"id\", 234922)])"
   ]
  },
  {
   "cell_type": "code",
   "execution_count": 38,
   "metadata": {},
   "outputs": [
    {
     "data": {
      "text/plain": [
       "b''"
      ]
     },
     "execution_count": 38,
     "metadata": {},
     "output_type": "execute_result"
    }
   ],
   "source": [
    "databases.delete_document(*db_collection, \"64c99c659bef971a8ef1\")"
   ]
  },
  {
   "cell_type": "code",
   "execution_count": 30,
   "metadata": {},
   "outputs": [
    {
     "data": {
      "text/plain": [
       "0"
      ]
     },
     "execution_count": 30,
     "metadata": {},
     "output_type": "execute_result"
    }
   ],
   "source": [
    "response[\"total\"]"
   ]
  },
  {
   "cell_type": "code",
   "execution_count": 32,
   "metadata": {},
   "outputs": [
    {
     "data": {
      "text/plain": [
       "[]"
      ]
     },
     "execution_count": 32,
     "metadata": {},
     "output_type": "execute_result"
    }
   ],
   "source": [
    "response[\"documents\"]"
   ]
  },
  {
   "cell_type": "code",
   "execution_count": null,
   "metadata": {},
   "outputs": [],
   "source": []
  }
 ],
 "metadata": {
  "kernelspec": {
   "display_name": "winwin-auto-scraper-lzrV6sCm",
   "language": "python",
   "name": "python3"
  },
  "language_info": {
   "codemirror_mode": {
    "name": "ipython",
    "version": 3
   },
   "file_extension": ".py",
   "mimetype": "text/x-python",
   "name": "python",
   "nbconvert_exporter": "python",
   "pygments_lexer": "ipython3",
   "version": "3.11.4"
  },
  "orig_nbformat": 4
 },
 "nbformat": 4,
 "nbformat_minor": 2
}
